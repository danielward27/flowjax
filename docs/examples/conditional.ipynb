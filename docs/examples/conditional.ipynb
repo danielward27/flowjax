{
 "cells": [
  {
   "attachments": {},
   "cell_type": "markdown",
   "metadata": {},
   "source": [
    "### Conditional density estimation\n",
    "\n",
    "This example shows how we can perform conditional density estimation with normalising flows.\n",
    "Here we use a [block_neural_autoregressive_flow](../api/flows.rst#flowjax.flows.block_neural_autoregressive_flow),\n",
    "although other flows are available and all support conditional density estimation (see [flowjax.flows](../api/flows.rst)). We consider a two dimensional model, where the upper limit of the target uniform distribution depends on another uniform random variable:\n",
    "$$u_i \\sim \\text{Uniform}(0,5) \\quad \\text{for}\\ i\\ \\text{in}\\ 1,2$$\n",
    "$$x_i \\sim \\text{Uniform}(0, u_i), \\quad \\text{for}\\ i\\ \\text{in}\\ 1,2$$\n",
    "\n",
    "We will try to infer the conditional distribution $p(x|u)$ using samples from the model.\n"
   ]
  },
  {
   "attachments": {},
   "cell_type": "markdown",
   "metadata": {},
   "source": [
    "Importing the required libraries."
   ]
  },
  {
   "cell_type": "code",
   "execution_count": 1,
   "metadata": {},
   "outputs": [],
   "source": [
    "import jax.numpy as jnp\n",
    "import jax.random as jr\n",
    "import matplotlib.pyplot as plt\n",
    "\n",
    "from flowjax.distributions import Normal\n",
    "from flowjax.flows import block_neural_autoregressive_flow\n",
    "from flowjax.train import fit_to_data"
   ]
  },
  {
   "attachments": {},
   "cell_type": "markdown",
   "metadata": {},
   "source": [
    "Generating the toy data."
   ]
  },
  {
   "cell_type": "code",
   "execution_count": 2,
   "metadata": {},
   "outputs": [],
   "source": [
    "key, x_key, cond_key = jr.split(jr.key(0), 3)\n",
    "u = jr.uniform(cond_key, (10000, 2), minval=0, maxval=5)\n",
    "x = jr.uniform(x_key, shape=u.shape, maxval=u)"
   ]
  },
  {
   "attachments": {},
   "cell_type": "markdown",
   "metadata": {},
   "source": [
    "Creating and training the flow."
   ]
  },
  {
   "cell_type": "code",
   "execution_count": 3,
   "metadata": {},
   "outputs": [
    {
     "name": "stderr",
     "output_type": "stream",
     "text": [
      " 34%|███▍      | 34/100 [00:09<00:19,  3.45it/s, train=1.35, val=1.33 (Max patience reached)]\n"
     ]
    }
   ],
   "source": [
    "key, subkey = jr.split(jr.key(0))\n",
    "flow = block_neural_autoregressive_flow(\n",
    "    key=subkey,\n",
    "    base_dist=Normal(jnp.zeros(x.shape[1])),\n",
    "    cond_dim=u.shape[1],\n",
    ")\n",
    "\n",
    "key, subkey = jr.split(key)\n",
    "flow, losses = fit_to_data(\n",
    "    subkey,\n",
    "    flow,\n",
    "    x,\n",
    "    u,\n",
    "    learning_rate=5e-2,\n",
    "    max_patience=10,\n",
    ")"
   ]
  },
  {
   "attachments": {},
   "cell_type": "markdown",
   "metadata": {},
   "source": [
    "We can now visualise the learned density. Let's condition on $u=[1,3]'$, in which case we expect $x_1 \\sim \\text{Uniform}(0, 1)$ and $x_2 \\sim \\text{Uniform}(0, 3)$"
   ]
  },
  {
   "cell_type": "code",
   "execution_count": 4,
   "metadata": {},
   "outputs": [
    {
     "data": {
      "image/png": "[encoded data removed]",
      "text/plain": [
       "<Figure size 640x480 with 1 Axes>"
      ]
     },
     "metadata": {},
     "output_type": "display_data"
    }
   ],
   "source": [
    "resolution = 200\n",
    "test_u = jnp.array([1.0, 3])\n",
    "\n",
    "xgrid, ygrid = jnp.meshgrid(\n",
    "    jnp.linspace(-1, 4, resolution), jnp.linspace(-1, 4, resolution),\n",
    ")\n",
    "xyinput = jnp.column_stack((xgrid.reshape(-1, 1), ygrid.reshape(-1, 1)))\n",
    "zgrid = jnp.exp(flow.log_prob(xyinput, test_u).reshape(resolution, resolution))\n",
    "plt.contourf(xgrid, ygrid, zgrid, levels=50)\n",
    "plt.show()"
   ]
  },
  {
   "cell_type": "code",
   "execution_count": null,
   "metadata": {},
   "outputs": [],
   "source": []
  }
 ],
 "metadata": {
  "kernelspec": {
   "display_name": "flowjax (3.13.2)",
   "language": "python",
   "name": "python3"
  },
  "language_info": {
   "codemirror_mode": {
    "name": "ipython",
    "version": 3
   },
   "file_extension": ".py",
   "mimetype": "text/x-python",
   "name": "python",
   "nbconvert_exporter": "python",
   "pygments_lexer": "ipython3",
   "version": "3.13.2"
  },
  "orig_nbformat": 4
 },
 "nbformat": 4,
 "nbformat_minor": 2
}
