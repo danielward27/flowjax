{
 "cells": [
  {
   "attachments": {},
   "cell_type": "markdown",
   "metadata": {},
   "source": [
    "### Flows with constrained support\n",
    "Often, we may know that the target distribution has constrained support. Examples could include\n",
    "learning a distribution over images, in which the pixel values fall within a predefined range, or learning\n",
    "a posterior over a scale parameter, which should have positive support. If the target\n",
    "support is known, we can choose to ensure the flow is supported on the same set.\n",
    "\n",
    "**Advantages of constraining the flow:** Constraining the flow prevents \"leakage\", where\n",
    "the flow model assigns mass to regions outside the support of the target distribution.\n",
    "This adds an inductive bias that often makes the target easier to learn, and ensures\n",
    "valid samples for downstream applications.\n",
    "\n",
    "**Disadvantages of constraining the flow:** If there are points very close to the\n",
    "support boundary, the method for constraining/unconstraining can become unstable. In practice, for most\n",
    "applications, this disadvantage can be solved with simple methods, such as applying a\n",
    "small degree of clipping to the data.\n",
    "\n",
    "We consider approximating the joint density $p(x_1, x_2)$, using toy data sampled from\n",
    "the model\n",
    "$$\n",
    "x_1 \\sim \\text{Beta}(\\alpha=0.3, \\beta=0.3) \\\\\n",
    "x_2 \\sim N(x_2; \\mu=(x_1-0.5)^3, \\sigma^2=0.01^2)\n",
    "$$\n",
    "as $x_1$ is beta distributed, it is supported on the interval $[0, 1]$, whereas $x_2$ is supported on the real line.\n",
    "\n",
    "Given an initially unbounded flow (i.e. supported on $\\mathbb{R}^2$ ), we consider three methods for fitting\n",
    "the flow.\n",
    "\n",
    "- **No constraints**: A flow fitted without constraining the support.\n",
    "- **Constrained option 1**: Transform the flow before fitting, so it has support matching the target.\n",
    "- **Constrained option 2**: Transform the data to have unbounded support before fitting, matching \n",
    "the flow. After training the flow on the unbounded space, we can transform the flow such that the support matches the\n",
    "original data. This approach tends to be slightly more efficient than option 1."
   ]
  },
  {
   "cell_type": "markdown",
   "metadata": {},
   "source": [
    "Importing the required libraries."
   ]
  },
  {
   "cell_type": "code",
   "execution_count": 1,
   "metadata": {},
   "outputs": [],
   "source": [
    "import jax\n",
    "import jax.numpy as jnp\n",
    "import jax.random as jr\n",
    "import matplotlib.pyplot as plt\n",
    "from paramax import non_trainable\n",
    "\n",
    "import flowjax.bijections as bij\n",
    "from flowjax.distributions import Normal, Transformed\n",
    "from flowjax.flows import masked_autoregressive_flow\n",
    "from flowjax.train import fit_to_data"
   ]
  },
  {
   "attachments": {},
   "cell_type": "markdown",
   "metadata": {},
   "source": [
    "Generating the toy data."
   ]
  },
  {
   "cell_type": "code",
   "execution_count": 2,
   "metadata": {},
   "outputs": [],
   "source": [
    "x1_key, x2_key, key = jr.split(jr.key(0), 3)\n",
    "x1 = jr.beta(x1_key, a=0.3, b=0.3, shape=(1000,))\n",
    "x2 = (x1-0.5)**3 + 0.01*jr.normal(x2_key, shape=x1.shape)\n",
    "x = jnp.stack([x1, x2], axis=-1)"
   ]
  },
  {
   "cell_type": "markdown",
   "metadata": {},
   "source": [
    "We can define a bijection to map between the unbounded space and constrained space. \n",
    "In this case, we use sigmoid to map the first dimension to $[0, 1]$, and the identity\n",
    "transformation to leave the second dimension unchanged."
   ]
  },
  {
   "cell_type": "code",
   "execution_count": 3,
   "metadata": {},
   "outputs": [],
   "source": [
    "to_constrained = bij.Stack([\n",
    "    bij.Sigmoid(),  # x_1: maps real -> [0, 1]\n",
    "    bij.Identity(), # x_2: maps real -> real\n",
    "    ])  "
   ]
  },
  {
   "attachments": {},
   "cell_type": "markdown",
   "metadata": {},
   "source": [
    "We can now create and train the flows, using the options outlined above."
   ]
  },
  {
   "cell_type": "code",
   "execution_count": 4,
   "metadata": {},
   "outputs": [
    {
     "name": "stderr",
     "output_type": "stream",
     "text": [
      "100%|██████████| 70/70 [00:07<00:00,  9.91it/s, train=-3.32, val=-3.43]\n",
      " 50%|█████     | 35/70 [00:01<00:01, 18.46it/s, train=-4.08, val=-3.9 (Max patience reached)]\n",
      " 50%|█████     | 35/70 [00:01<00:01, 28.88it/s, train=-0.0892, val=-0.01 (Max patience reached)]\n"
     ]
    }
   ],
   "source": [
    "key, subkey = jr.split(key)\n",
    "\n",
    "# Create the flow\n",
    "unbounded_flow = masked_autoregressive_flow(\n",
    "    key=subkey,\n",
    "    base_dist=Normal(jnp.zeros(x.shape[1])),\n",
    ")\n",
    "\n",
    "# Fit the flow, without applying any constraints\n",
    "key, subkey = jr.split(key)\n",
    "flow_no_constraints, losses = fit_to_data(\n",
    "    key=subkey,\n",
    "    dist=unbounded_flow,\n",
    "    data=x,\n",
    "    learning_rate=5e-3,\n",
    "    max_patience=20,\n",
    "    max_epochs=70,\n",
    ")\n",
    "\n",
    "# Contraint option 1: Transform the flow to match data support\n",
    "flow_constrained_1 = Transformed(\n",
    "    unbounded_flow,\n",
    "    non_trainable(to_constrained) # Ensure constraint not trained!\n",
    ")\n",
    "\n",
    "# Clip for stability\n",
    "x_clipped = jnp.stack([jnp.clip(x1, 1e-7, 1-1e-7), x2], axis=-1)\n",
    "flow_constrained_1, losses = fit_to_data(\n",
    "    key=subkey,\n",
    "    dist=flow_constrained_1,\n",
    "    data=x_clipped,\n",
    "    learning_rate=5e-3,\n",
    "    max_patience=10,\n",
    "    max_epochs=70,\n",
    ")\n",
    "\n",
    "# Option 2: Transform the data to match unbounded flow support for training\n",
    "x_unbounded = jax.vmap(to_constrained.inverse)(x_clipped)\n",
    "\n",
    "flow2, losses = fit_to_data(\n",
    "    key=subkey,\n",
    "    dist=unbounded_flow,\n",
    "    data=x_unbounded,\n",
    "    learning_rate=5e-3,\n",
    "    max_patience=10,\n",
    "    max_epochs=70,\n",
    ")\n",
    "flow_constrained_2 = Transformed(flow2, to_constrained)  # Now map to constrained space"
   ]
  },
  {
   "attachments": {},
   "cell_type": "markdown",
   "metadata": {},
   "source": [
    "We can visualise the learned densities. Without constraints, the flow leaks mass\n",
    "outside the support, producing invalid samples shown in red. For higher dimensional\n",
    "examples, a large proportion of samples may be from invalid regions! Both options for\n",
    "constraining the flow avoid this."
   ]
  },
  {
   "cell_type": "code",
   "execution_count": 6,
   "metadata": {},
   "outputs": [
    {
     "data": {
      "image/png": "[encoded data removed]",
      "text/plain": [
       "<Figure size 600x500 with 4 Axes>"
      ]
     },
     "metadata": {},
     "output_type": "display_data"
    }
   ],
   "source": [
    "key, subkey = jr.split(key)\n",
    "samples = {\n",
    "    \"True\\ndistribution\": x,\n",
    "    \"No\\nconstraints\": flow_no_constraints.sample(subkey, (x.shape[0],)),\n",
    "    \"Constrained\\n(option 1)\": flow_constrained_1.sample(subkey, (x.shape[0],)),\n",
    "    \"Constrained\\n(option 2)\": flow_constrained_2.sample(subkey, (x.shape[0],)),\n",
    "}\n",
    "\n",
    "fig = plt.figure(figsize=(6, 5))\n",
    "axes = fig.subplots(ncols=len(samples), sharex=True, sharey=True)\n",
    "\n",
    "for (k, v), ax in zip(samples.items(), axes, strict=True):\n",
    "    is_valid = jnp.logical_and(v[:, 0] >= 0, v[:, 0] <= 1)\n",
    "    ax.scatter(v[:, 0][is_valid], v[:, 1][is_valid], s=0.1, color=\"tab:green\")\n",
    "    ax.scatter(v[:, 0][~is_valid], v[:, 1][~is_valid], s=0.1, color=\"tab:red\")\n",
    "    ax.set_title(k)\n",
    "    ax.set_box_aspect(1)\n",
    "plt.show()"
   ]
  },
  {
   "cell_type": "code",
   "execution_count": null,
   "metadata": {},
   "outputs": [],
   "source": []
  }
 ],
 "metadata": {
  "kernelspec": {
   "display_name": "flowjax (3.13.2)",
   "language": "python",
   "name": "python3"
  },
  "language_info": {
   "codemirror_mode": {
    "name": "ipython",
    "version": 3
   },
   "file_extension": ".py",
   "mimetype": "text/x-python",
   "name": "python",
   "nbconvert_exporter": "python",
   "pygments_lexer": "ipython3",
   "version": "3.13.2"
  },
  "orig_nbformat": 4
 },
 "nbformat": 4,
 "nbformat_minor": 2
}
